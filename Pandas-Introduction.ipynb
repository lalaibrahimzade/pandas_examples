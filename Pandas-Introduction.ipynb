{
 "cells": [
  {
   "cell_type": "code",
   "execution_count": 9,
   "id": "76d303a4-8841-46ca-aede-b6a04632bf7e",
   "metadata": {},
   "outputs": [],
   "source": [
    "import pandas as pd\n",
    "import numpy as np"
   ]
  },
  {
   "cell_type": "code",
   "execution_count": 10,
   "id": "4b4268fc-a562-42f4-863d-b2039c0999ea",
   "metadata": {},
   "outputs": [
    {
     "name": "stdout",
     "output_type": "stream",
     "text": [
      "0     49\n",
      "1     43\n",
      "2     65\n",
      "3     40\n",
      "4    160\n",
      "dtype: int64\n"
     ]
    }
   ],
   "source": [
    "series = pd.Series([49, 43, 65, 40, 160])\n",
    "print(series)"
   ]
  },
  {
   "cell_type": "code",
   "execution_count": 11,
   "id": "03a30d1f-e43e-448e-bb75-0d7005567861",
   "metadata": {},
   "outputs": [],
   "source": [
    "series.name = \"Pokemon Savunma Güçleri\""
   ]
  },
  {
   "cell_type": "code",
   "execution_count": 12,
   "id": "5e9d5e00-da38-4103-a17e-b8e76c6da8e6",
   "metadata": {},
   "outputs": [
    {
     "name": "stdout",
     "output_type": "stream",
     "text": [
      "0     49\n",
      "1     43\n",
      "2     65\n",
      "3     40\n",
      "4    160\n",
      "Name: Pokemon Savunma Güçleri, dtype: int64\n"
     ]
    }
   ],
   "source": [
    "print(series)"
   ]
  },
  {
   "cell_type": "code",
   "execution_count": 13,
   "id": "c836ad0f-432f-4f26-a1cb-72b1384828c1",
   "metadata": {},
   "outputs": [
    {
     "data": {
      "text/plain": [
       "dtype('int64')"
      ]
     },
     "execution_count": 13,
     "metadata": {},
     "output_type": "execute_result"
    }
   ],
   "source": [
    "series.dtype"
   ]
  },
  {
   "cell_type": "code",
   "execution_count": 14,
   "id": "b9aa97dd-5347-4fd1-bfb1-c939de56375a",
   "metadata": {},
   "outputs": [
    {
     "data": {
      "text/plain": [
       "array([ 49,  43,  65,  40, 160])"
      ]
     },
     "execution_count": 14,
     "metadata": {},
     "output_type": "execute_result"
    }
   ],
   "source": [
    "series.values"
   ]
  },
  {
   "cell_type": "code",
   "execution_count": 15,
   "id": "c6714ad1-f81f-419e-abdb-b364f09a937e",
   "metadata": {},
   "outputs": [
    {
     "data": {
      "text/plain": [
       "np.int64(43)"
      ]
     },
     "execution_count": 15,
     "metadata": {},
     "output_type": "execute_result"
    }
   ],
   "source": [
    "series[1]"
   ]
  },
  {
   "cell_type": "code",
   "execution_count": 16,
   "id": "f42360f4-dfa1-4f21-a95c-43b616fe14f4",
   "metadata": {},
   "outputs": [
    {
     "data": {
      "text/plain": [
       "RangeIndex(start=0, stop=5, step=1)"
      ]
     },
     "execution_count": 16,
     "metadata": {},
     "output_type": "execute_result"
    }
   ],
   "source": [
    "series.index"
   ]
  },
  {
   "cell_type": "code",
   "execution_count": 17,
   "id": "2d679013-15c4-42d8-9dca-eb512ec21456",
   "metadata": {},
   "outputs": [],
   "source": [
    "series.index = [\"Bulbasaur\", \"Charmander\", \"Squirtle\", \"Pikachu\", \"Onix\"]"
   ]
  },
  {
   "cell_type": "code",
   "execution_count": 18,
   "id": "d3fca3a6-3c90-4538-ab73-12146653b97d",
   "metadata": {},
   "outputs": [
    {
     "name": "stdout",
     "output_type": "stream",
     "text": [
      "Bulbasaur      49\n",
      "Charmander     43\n",
      "Squirtle       65\n",
      "Pikachu        40\n",
      "Onix          160\n",
      "Name: Pokemon Savunma Güçleri, dtype: int64\n"
     ]
    }
   ],
   "source": [
    "print(series)"
   ]
  },
  {
   "cell_type": "code",
   "execution_count": 19,
   "id": "f4b39e4d-9434-4ac6-a5f9-c21f801ab705",
   "metadata": {},
   "outputs": [
    {
     "data": {
      "text/plain": [
       "Bulbasaur      49\n",
       "Charmander     43\n",
       "Squirtle       65\n",
       "Pikachu        40\n",
       "Onix          160\n",
       "Name: Pokemon Savunma Güçleri, dtype: int64"
      ]
     },
     "execution_count": 19,
     "metadata": {},
     "output_type": "execute_result"
    }
   ],
   "source": [
    "pd.Series({\n",
    "    'Bulbasaur': 49, \n",
    "    'Charmander': 43, \n",
    "    'Squirtle': 65, \n",
    "    'Pikachu': 40, \n",
    "    'Onix': 160\n",
    "    }, name=\"Pokemon Savunma Güçleri\")"
   ]
  },
  {
   "cell_type": "code",
   "execution_count": 21,
   "id": "02656431-f776-4ea8-8ec5-8968f67cd98c",
   "metadata": {},
   "outputs": [
    {
     "data": {
      "text/plain": [
       "np.int64(40)"
      ]
     },
     "execution_count": 21,
     "metadata": {},
     "output_type": "execute_result"
    }
   ],
   "source": [
    "series[\"Pikachu\"]"
   ]
  },
  {
   "cell_type": "code",
   "execution_count": 23,
   "id": "6f102f3f-f4ca-4740-95e8-8d422615d8a3",
   "metadata": {},
   "outputs": [
    {
     "data": {
      "text/plain": [
       "np.int64(65)"
      ]
     },
     "execution_count": 23,
     "metadata": {},
     "output_type": "execute_result"
    }
   ],
   "source": [
    "series.iloc[2]"
   ]
  },
  {
   "cell_type": "code",
   "execution_count": 24,
   "id": "b9d66b52-c0b7-4e96-a5e9-8735d0a11581",
   "metadata": {},
   "outputs": [
    {
     "data": {
      "text/plain": [
       "np.int64(160)"
      ]
     },
     "execution_count": 24,
     "metadata": {},
     "output_type": "execute_result"
    }
   ],
   "source": [
    "series.iloc[-1]"
   ]
  },
  {
   "cell_type": "code",
   "execution_count": 26,
   "id": "f1fffddf-6d5a-4638-bdd1-870bf266f06a",
   "metadata": {},
   "outputs": [
    {
     "data": {
      "text/plain": [
       "Bulbasaur     49\n",
       "Onix         160\n",
       "Name: Pokemon Savunma Güçleri, dtype: int64"
      ]
     },
     "execution_count": 26,
     "metadata": {},
     "output_type": "execute_result"
    }
   ],
   "source": [
    "series[[\"Bulbasaur\", \"Onix\"]]"
   ]
  },
  {
   "cell_type": "code",
   "execution_count": 30,
   "id": "2448a96c-1826-4f37-9d46-426db358f10c",
   "metadata": {},
   "outputs": [
    {
     "data": {
      "text/plain": [
       "Charmander     43\n",
       "Onix          160\n",
       "Name: Pokemon Savunma Güçleri, dtype: int64"
      ]
     },
     "execution_count": 30,
     "metadata": {},
     "output_type": "execute_result"
    }
   ],
   "source": [
    "series.iloc[[1, 4]]"
   ]
  },
  {
   "cell_type": "code",
   "execution_count": 32,
   "id": "a0c18c85-512f-470f-9447-489dd7e1b1cb",
   "metadata": {},
   "outputs": [
    {
     "data": {
      "text/plain": [
       "Bulbasaur     49\n",
       "Charmander    43\n",
       "Squirtle      65\n",
       "Name: Pokemon Savunma Güçleri, dtype: int64"
      ]
     },
     "execution_count": 32,
     "metadata": {},
     "output_type": "execute_result"
    }
   ],
   "source": [
    "series[\"Bulbasaur\": \"Squirtle\"]"
   ]
  },
  {
   "cell_type": "code",
   "execution_count": 33,
   "id": "fcf3008e-77e8-4f58-9e77-7b1f9a868f80",
   "metadata": {},
   "outputs": [
    {
     "data": {
      "text/plain": [
       "Bulbasaur      True\n",
       "Charmander    False\n",
       "Squirtle       True\n",
       "Pikachu       False\n",
       "Onix           True\n",
       "Name: Pokemon Savunma Güçleri, dtype: bool"
      ]
     },
     "execution_count": 33,
     "metadata": {},
     "output_type": "execute_result"
    }
   ],
   "source": [
    "series > 45"
   ]
  },
  {
   "cell_type": "code",
   "execution_count": 35,
   "id": "444cae2c-27a5-49f4-a9ed-7de1a4c902a2",
   "metadata": {},
   "outputs": [
    {
     "data": {
      "text/plain": [
       "Bulbasaur     49\n",
       "Squirtle      65\n",
       "Onix         160\n",
       "Name: Pokemon Savunma Güçleri, dtype: int64"
      ]
     },
     "execution_count": 35,
     "metadata": {},
     "output_type": "execute_result"
    }
   ],
   "source": [
    "series[series > 45]"
   ]
  },
  {
   "cell_type": "code",
   "execution_count": 37,
   "id": "6ad4949c-9423-4e02-9565-927227f06240",
   "metadata": {},
   "outputs": [
    {
     "data": {
      "text/plain": [
       "np.float64(71.4)"
      ]
     },
     "execution_count": 37,
     "metadata": {},
     "output_type": "execute_result"
    }
   ],
   "source": [
    "series.mean()"
   ]
  },
  {
   "cell_type": "code",
   "execution_count": 39,
   "id": "566c44da-a145-4964-b3c5-448e08290de0",
   "metadata": {},
   "outputs": [
    {
     "data": {
      "text/plain": [
       "Onix    160\n",
       "Name: Pokemon Savunma Güçleri, dtype: int64"
      ]
     },
     "execution_count": 39,
     "metadata": {},
     "output_type": "execute_result"
    }
   ],
   "source": [
    "series[series > series.mean()]"
   ]
  },
  {
   "cell_type": "code",
   "execution_count": 40,
   "id": "4ddea4bb-287c-4cfc-b1d9-2aec1d744a3f",
   "metadata": {},
   "outputs": [
    {
     "data": {
      "text/plain": [
       "Bulbasaur    49\n",
       "Squirtle     65\n",
       "Name: Pokemon Savunma Güçleri, dtype: int64"
      ]
     },
     "execution_count": 40,
     "metadata": {},
     "output_type": "execute_result"
    }
   ],
   "source": [
    "series[(series > 45) & (series < 100)]"
   ]
  },
  {
   "cell_type": "code",
   "execution_count": 43,
   "id": "1fcd3858-4a10-43e7-bb9b-7f40a3c60935",
   "metadata": {},
   "outputs": [
    {
     "name": "stdout",
     "output_type": "stream",
     "text": [
      "Bulbasaur      49\n",
      "Charmander     43\n",
      "Squirtle       65\n",
      "Pikachu        70\n",
      "Onix          160\n",
      "Name: Pokemon Savunma Güçleri, dtype: int64\n"
     ]
    }
   ],
   "source": [
    "series[\"Pikachu\"] = 70 \n",
    "print(series)"
   ]
  },
  {
   "cell_type": "code",
   "execution_count": 45,
   "id": "522f2da8-c4a1-48cd-8d23-37237d8056bc",
   "metadata": {},
   "outputs": [
    {
     "name": "stdout",
     "output_type": "stream",
     "text": [
      "Bulbasaur     49\n",
      "Charmander    43\n",
      "Squirtle      50\n",
      "Pikachu       50\n",
      "Onix          50\n",
      "Name: Pokemon Savunma Güçleri, dtype: int64\n"
     ]
    }
   ],
   "source": [
    "series[series > 50] = 50\n",
    "print(series)"
   ]
  },
  {
   "cell_type": "code",
   "execution_count": 47,
   "id": "b9b99d41-ac68-4f14-9b7e-35872ab95e36",
   "metadata": {},
   "outputs": [
    {
     "name": "stdout",
     "output_type": "stream",
     "text": [
      "Bulbasaur      49\n",
      "Charmander     43\n",
      "Squirtle       65\n",
      "Pikachu        40\n",
      "Onix          160\n",
      "Name: Pokemon Savunma Güçleri, dtype: int64\n"
     ]
    }
   ],
   "source": [
    "series = pd.Series({ 'Bulbasaur': 49, 'Charmander': 43, 'Squirtle': 65, 'Pikachu': 40, 'Onix': 160 }, name=\"Pokemon Savunma Güçleri\")\n",
    "print(series)"
   ]
  },
  {
   "cell_type": "code",
   "execution_count": null,
   "id": "077c7420-756f-45b2-bfd4-ffcb101e3131",
   "metadata": {},
   "outputs": [],
   "source": []
  }
 ],
 "metadata": {
  "kernelspec": {
   "display_name": "Python 3 (ipykernel)",
   "language": "python",
   "name": "python3"
  },
  "language_info": {
   "codemirror_mode": {
    "name": "ipython",
    "version": 3
   },
   "file_extension": ".py",
   "mimetype": "text/x-python",
   "name": "python",
   "nbconvert_exporter": "python",
   "pygments_lexer": "ipython3",
   "version": "3.11.4"
  }
 },
 "nbformat": 4,
 "nbformat_minor": 5
}
